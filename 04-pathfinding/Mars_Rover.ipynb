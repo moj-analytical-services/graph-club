{
 "cells": [
  {
   "cell_type": "raw",
   "metadata": {},
   "source": [
    "Can you Help our Mars Rover find its way?\n",
    "\n"
   ]
  },
  {
   "cell_type": "code",
   "execution_count": null,
   "metadata": {},
   "outputs": [],
   "source": [
    "#Read in the data\n",
    "\n",
    "\n",
    "import numpy as np\n",
    "import pandas as pd\n",
    "import scipy\n",
    "import networkx as nx\n",
    "\n",
    "data = pd.read_csv(\"Mars_Nodes_Weights.csv\", header=None)\n",
    "data = data.iloc[1:]"
   ]
  },
  {
   "cell_type": "code",
   "execution_count": null,
   "metadata": {},
   "outputs": [],
   "source": [
    "#Create the Graph and populate it with the nodes and edge weights\n",
    "\n",
    "G = nx.DiGraph()\n",
    "\n",
    "edgeList = data.values.tolist()\n",
    "\n",
    "for i in range(len(edgeList)):\n",
    "    G.add_edge(str(edgeList[i][0]), str(edgeList[i][1]), weight= int(edgeList[i][2]))  \n",
    "    \n",
    "#Adding edges automatically adds the relevent nodes as well"
   ]
  },
  {
   "cell_type": "code",
   "execution_count": null,
   "metadata": {},
   "outputs": [],
   "source": [
    "#Lets look at our nodes and edges\n",
    "\n",
    "list(G.nodes)"
   ]
  },
  {
   "cell_type": "code",
   "execution_count": null,
   "metadata": {},
   "outputs": [],
   "source": [
    "list(G.edges)"
   ]
  },
  {
   "cell_type": "raw",
   "metadata": {},
   "source": [
    "Now you should have everything you need! Can you use DijKstra's Algorithm (as implemented in DirectX) to find the best path for the rover to take to node P? \n",
    "\n",
    "Can you think of a suitable Heuristic to use with AStar?"
   ]
  }
 ],
 "metadata": {
  "kernelspec": {
   "display_name": "Python 3",
   "language": "python",
   "name": "python3"
  },
  "language_info": {
   "codemirror_mode": {
    "name": "ipython",
    "version": 3
   },
   "file_extension": ".py",
   "mimetype": "text/x-python",
   "name": "python",
   "nbconvert_exporter": "python",
   "pygments_lexer": "ipython3",
   "version": "3.7.1"
  }
 },
 "nbformat": 4,
 "nbformat_minor": 4
}
