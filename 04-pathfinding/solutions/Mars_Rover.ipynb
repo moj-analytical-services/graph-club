{
 "cells": [
  {
   "cell_type": "raw",
   "metadata": {},
   "source": [
    "Can you Help our Mars Rover find its way?\n",
    "\n"
   ]
  },
  {
   "cell_type": "code",
   "execution_count": 3,
   "metadata": {},
   "outputs": [],
   "source": [
    "#Read in the data\n",
    "\n",
    "\n",
    "import numpy as np\n",
    "import pandas as pd\n",
    "import scipy\n",
    "import networkx as nx\n",
    "\n",
    "data = pd.read_csv(\"Mars_Nodes_Weights.csv\", header=None)\n",
    "data = data.iloc[1:]"
   ]
  },
  {
   "cell_type": "code",
   "execution_count": 4,
   "metadata": {},
   "outputs": [],
   "source": [
    "#Create the Graph and populate it with the nodes and edge weights\n",
    "\n",
    "G = nx.DiGraph()\n",
    "\n",
    "edgeList = data.values.tolist()\n",
    "\n",
    "for i in range(len(edgeList)):\n",
    "    G.add_edge(str(edgeList[i][0]), str(edgeList[i][1]), weight= int(edgeList[i][2]))  \n",
    "    \n",
    "#Adding edges automatically adds the relevent nodes as well"
   ]
  },
  {
   "cell_type": "code",
   "execution_count": 5,
   "metadata": {},
   "outputs": [
    {
     "data": {
      "text/plain": [
       "['rover',\n",
       " 'A',\n",
       " 'B',\n",
       " 'C',\n",
       " 'D',\n",
       " 'E',\n",
       " 'F',\n",
       " 'G',\n",
       " 'H',\n",
       " 'I',\n",
       " 'J',\n",
       " 'K',\n",
       " 'L',\n",
       " 'M',\n",
       " 'N',\n",
       " 'O',\n",
       " 'P',\n",
       " 'Q',\n",
       " 'R',\n",
       " 'S']"
      ]
     },
     "execution_count": 5,
     "metadata": {},
     "output_type": "execute_result"
    }
   ],
   "source": [
    "#Lets look at our nodes and edges\n",
    "\n",
    "list(G.nodes)"
   ]
  },
  {
   "cell_type": "code",
   "execution_count": 6,
   "metadata": {},
   "outputs": [
    {
     "data": {
      "text/plain": [
       "[('rover', 'A'),\n",
       " ('rover', 'B'),\n",
       " ('rover', 'C'),\n",
       " ('A', 'B'),\n",
       " ('A', 'D'),\n",
       " ('A', 'E'),\n",
       " ('B', 'A'),\n",
       " ('B', 'D'),\n",
       " ('B', 'E'),\n",
       " ('B', 'F'),\n",
       " ('B', 'C'),\n",
       " ('C', 'B'),\n",
       " ('C', 'E'),\n",
       " ('C', 'F'),\n",
       " ('D', 'G'),\n",
       " ('D', 'H'),\n",
       " ('D', 'E'),\n",
       " ('E', 'D'),\n",
       " ('E', 'G'),\n",
       " ('E', 'H'),\n",
       " ('E', 'I'),\n",
       " ('E', 'F'),\n",
       " ('F', 'E'),\n",
       " ('F', 'H'),\n",
       " ('F', 'I'),\n",
       " ('G', 'J'),\n",
       " ('G', 'H'),\n",
       " ('G', 'K'),\n",
       " ('H', 'G'),\n",
       " ('H', 'J'),\n",
       " ('H', 'K'),\n",
       " ('H', 'L'),\n",
       " ('H', 'I'),\n",
       " ('I', 'H'),\n",
       " ('I', 'K'),\n",
       " ('I', 'L'),\n",
       " ('J', 'M'),\n",
       " ('J', 'N'),\n",
       " ('J', 'K'),\n",
       " ('K', 'J'),\n",
       " ('K', 'M'),\n",
       " ('K', 'N'),\n",
       " ('K', 'O'),\n",
       " ('K', 'L'),\n",
       " ('L', 'K'),\n",
       " ('L', 'N'),\n",
       " ('L', 'O'),\n",
       " ('M', 'P'),\n",
       " ('M', 'Q'),\n",
       " ('M', 'N'),\n",
       " ('N', 'M'),\n",
       " ('N', 'P'),\n",
       " ('N', 'Q'),\n",
       " ('N', 'R'),\n",
       " ('N', 'O'),\n",
       " ('O', 'N'),\n",
       " ('O', 'Q'),\n",
       " ('O', 'R'),\n",
       " ('P', 'S'),\n",
       " ('P', 'Q'),\n",
       " ('Q', 'P'),\n",
       " ('Q', 'S'),\n",
       " ('Q', 'R'),\n",
       " ('R', 'Q'),\n",
       " ('R', 'S')]"
      ]
     },
     "execution_count": 6,
     "metadata": {},
     "output_type": "execute_result"
    }
   ],
   "source": [
    "list(G.edges)"
   ]
  },
  {
   "cell_type": "raw",
   "metadata": {},
   "source": [
    "Now you should have everything you need! Can you use DijKstra's Algorithm (as implemented in DirectX) to find the best path for the rover to take to node P? \n",
    "\n",
    "Can you think of a suitable Heuristic to use with AStar?"
   ]
  },
  {
   "cell_type": "code",
   "execution_count": 9,
   "metadata": {},
   "outputs": [
    {
     "data": {
      "text/plain": [
       "AtlasView({'B': {'weight': 18}, 'D': {'weight': 6}, 'E': {'weight': 6}})"
      ]
     },
     "execution_count": 9,
     "metadata": {},
     "output_type": "execute_result"
    }
   ],
   "source": [
    "G['A']"
   ]
  },
  {
   "cell_type": "code",
   "execution_count": 43,
   "metadata": {},
   "outputs": [
    {
     "data": {
      "text/plain": [
       "['rover', 'C', 'E', 'H', 'J', 'N', 'P']"
      ]
     },
     "execution_count": 43,
     "metadata": {},
     "output_type": "execute_result"
    }
   ],
   "source": [
    "nx.algorithms.shortest_paths.weighted.dijkstra_path(G, 'rover', 'P')"
   ]
  },
  {
   "cell_type": "code",
   "execution_count": 51,
   "metadata": {},
   "outputs": [],
   "source": [
    "import heapq\n",
    "\n",
    "def dijkstra(G, start, end):\n",
    "    search = [(0, start)]\n",
    "    path = {start: None}\n",
    "    cost = {start: 0}\n",
    "\n",
    "    while search:\n",
    "        c, n = heapq.heappop(search)\n",
    "        \n",
    "        if n == end:\n",
    "            shortest_path = [end]\n",
    "            while path[n] is not None:\n",
    "                shortest_path.append(path[n])\n",
    "                n = path[n]\n",
    "            return (list(reversed(shortest_path)), cost[end])\n",
    "        \n",
    "        for nbr in G[n]:\n",
    "            w = G[n][nbr]['weight']\n",
    "            if nbr not in path or (nbr in path and cost[nbr] > c + w):\n",
    "                path[nbr] = n\n",
    "                cost[nbr] = c + w\n",
    "                heapq.heappush(search, (c + w, nbr))"
   ]
  },
  {
   "cell_type": "code",
   "execution_count": 52,
   "metadata": {},
   "outputs": [
    {
     "data": {
      "text/plain": [
       "(['rover', 'C', 'E', 'H', 'J', 'N', 'P'], 12)"
      ]
     },
     "execution_count": 52,
     "metadata": {},
     "output_type": "execute_result"
    }
   ],
   "source": [
    "dijkstra(G, 'rover', 'P')"
   ]
  },
  {
   "cell_type": "code",
   "execution_count": 77,
   "metadata": {},
   "outputs": [],
   "source": [
    "def a_star(G, start, end, h):\n",
    "    search = [(0 + h(G, start, end), start)]\n",
    "    path = {start: None}\n",
    "    cost = {start: 0}\n",
    "\n",
    "    while search:\n",
    "        c, n = heapq.heappop(search)\n",
    "        \n",
    "        if n == end:\n",
    "            shortest_path = [end]\n",
    "            while path[n] is not None:\n",
    "                shortest_path.append(path[n])\n",
    "                n = path[n]\n",
    "            return (list(reversed(shortest_path)), cost[end])\n",
    "        \n",
    "        for nbr in G[n]:\n",
    "            w = G[n][nbr]['weight']\n",
    "            if nbr not in path or (nbr in path and cost[nbr] > cost[n] + w):\n",
    "                path[nbr] = n\n",
    "                cost[nbr] = cost[n] + w\n",
    "                heapq.heappush(search, (c + w + h(G, nbr, end), nbr))"
   ]
  },
  {
   "cell_type": "code",
   "execution_count": 83,
   "metadata": {},
   "outputs": [],
   "source": [
    "def heuristic(G, a, b):\n",
    "    if a == 'rover':\n",
    "        ord_a = ord('A') - 1\n",
    "    else:\n",
    "        ord_a = ord(a)\n",
    "        \n",
    "    return (ord(b) - ord_a) / 4"
   ]
  },
  {
   "cell_type": "code",
   "execution_count": 84,
   "metadata": {},
   "outputs": [
    {
     "data": {
      "text/plain": [
       "(['rover', 'C', 'E', 'H', 'K', 'N', 'P'], 12)"
      ]
     },
     "execution_count": 84,
     "metadata": {},
     "output_type": "execute_result"
    }
   ],
   "source": [
    "a_star(G, 'rover', 'P', heuristic)"
   ]
  },
  {
   "cell_type": "code",
   "execution_count": 85,
   "metadata": {},
   "outputs": [
    {
     "name": "stdout",
     "output_type": "stream",
     "text": [
      "191 µs ± 31.1 µs per loop (mean ± std. dev. of 7 runs, 10000 loops each)\n"
     ]
    }
   ],
   "source": [
    "%%timeit\n",
    "\n",
    "dijkstra(G, 'rover', 'P')"
   ]
  },
  {
   "cell_type": "code",
   "execution_count": 86,
   "metadata": {},
   "outputs": [
    {
     "name": "stdout",
     "output_type": "stream",
     "text": [
      "186 µs ± 14.9 µs per loop (mean ± std. dev. of 7 runs, 1000 loops each)\n"
     ]
    }
   ],
   "source": [
    "%%timeit\n",
    "\n",
    "a_star(G, 'rover', 'P', heuristic)"
   ]
  },
  {
   "cell_type": "code",
   "execution_count": null,
   "metadata": {},
   "outputs": [],
   "source": []
  }
 ],
 "metadata": {
  "kernelspec": {
   "display_name": "Python 3",
   "language": "python",
   "name": "python3"
  },
  "language_info": {
   "codemirror_mode": {
    "name": "ipython",
    "version": 3
   },
   "file_extension": ".py",
   "mimetype": "text/x-python",
   "name": "python",
   "nbconvert_exporter": "python",
   "pygments_lexer": "ipython3",
   "version": "3.8.5"
  }
 },
 "nbformat": 4,
 "nbformat_minor": 4
}
